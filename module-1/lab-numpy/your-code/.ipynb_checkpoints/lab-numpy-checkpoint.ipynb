{
 "cells": [
  {
   "cell_type": "code",
   "execution_count": 1,
   "metadata": {},
   "outputs": [],
   "source": [
    "#1. Import the NUMPY package under the name np.\n",
    "import numpy as np\n"
   ]
  },
  {
   "cell_type": "code",
   "execution_count": 6,
   "metadata": {},
   "outputs": [
    {
     "name": "stdout",
     "output_type": "stream",
     "text": [
      "1.15.4\n",
      "mkl_info:\n",
      "    libraries = ['mkl_rt']\n",
      "    library_dirs = ['C:/Nane/Anaconda3\\\\Library\\\\lib']\n",
      "    define_macros = [('SCIPY_MKL_H', None), ('HAVE_CBLAS', None)]\n",
      "    include_dirs = ['C:\\\\Program Files (x86)\\\\IntelSWTools\\\\compilers_and_libraries_2019.0.117\\\\windows\\\\mkl', 'C:\\\\Program Files (x86)\\\\IntelSWTools\\\\compilers_and_libraries_2019.0.117\\\\windows\\\\mkl\\\\include', 'C:\\\\Program Files (x86)\\\\IntelSWTools\\\\compilers_and_libraries_2019.0.117\\\\windows\\\\mkl\\\\lib', 'C:/Nane/Anaconda3\\\\Library\\\\include']\n",
      "blas_mkl_info:\n",
      "    libraries = ['mkl_rt']\n",
      "    library_dirs = ['C:/Nane/Anaconda3\\\\Library\\\\lib']\n",
      "    define_macros = [('SCIPY_MKL_H', None), ('HAVE_CBLAS', None)]\n",
      "    include_dirs = ['C:\\\\Program Files (x86)\\\\IntelSWTools\\\\compilers_and_libraries_2019.0.117\\\\windows\\\\mkl', 'C:\\\\Program Files (x86)\\\\IntelSWTools\\\\compilers_and_libraries_2019.0.117\\\\windows\\\\mkl\\\\include', 'C:\\\\Program Files (x86)\\\\IntelSWTools\\\\compilers_and_libraries_2019.0.117\\\\windows\\\\mkl\\\\lib', 'C:/Nane/Anaconda3\\\\Library\\\\include']\n",
      "blas_opt_info:\n",
      "    libraries = ['mkl_rt']\n",
      "    library_dirs = ['C:/Nane/Anaconda3\\\\Library\\\\lib']\n",
      "    define_macros = [('SCIPY_MKL_H', None), ('HAVE_CBLAS', None)]\n",
      "    include_dirs = ['C:\\\\Program Files (x86)\\\\IntelSWTools\\\\compilers_and_libraries_2019.0.117\\\\windows\\\\mkl', 'C:\\\\Program Files (x86)\\\\IntelSWTools\\\\compilers_and_libraries_2019.0.117\\\\windows\\\\mkl\\\\include', 'C:\\\\Program Files (x86)\\\\IntelSWTools\\\\compilers_and_libraries_2019.0.117\\\\windows\\\\mkl\\\\lib', 'C:/Nane/Anaconda3\\\\Library\\\\include']\n",
      "lapack_mkl_info:\n",
      "    libraries = ['mkl_rt']\n",
      "    library_dirs = ['C:/Nane/Anaconda3\\\\Library\\\\lib']\n",
      "    define_macros = [('SCIPY_MKL_H', None), ('HAVE_CBLAS', None)]\n",
      "    include_dirs = ['C:\\\\Program Files (x86)\\\\IntelSWTools\\\\compilers_and_libraries_2019.0.117\\\\windows\\\\mkl', 'C:\\\\Program Files (x86)\\\\IntelSWTools\\\\compilers_and_libraries_2019.0.117\\\\windows\\\\mkl\\\\include', 'C:\\\\Program Files (x86)\\\\IntelSWTools\\\\compilers_and_libraries_2019.0.117\\\\windows\\\\mkl\\\\lib', 'C:/Nane/Anaconda3\\\\Library\\\\include']\n",
      "lapack_opt_info:\n",
      "    libraries = ['mkl_rt']\n",
      "    library_dirs = ['C:/Nane/Anaconda3\\\\Library\\\\lib']\n",
      "    define_macros = [('SCIPY_MKL_H', None), ('HAVE_CBLAS', None)]\n",
      "    include_dirs = ['C:\\\\Program Files (x86)\\\\IntelSWTools\\\\compilers_and_libraries_2019.0.117\\\\windows\\\\mkl', 'C:\\\\Program Files (x86)\\\\IntelSWTools\\\\compilers_and_libraries_2019.0.117\\\\windows\\\\mkl\\\\include', 'C:\\\\Program Files (x86)\\\\IntelSWTools\\\\compilers_and_libraries_2019.0.117\\\\windows\\\\mkl\\\\lib', 'C:/Nane/Anaconda3\\\\Library\\\\include']\n",
      "None\n"
     ]
    }
   ],
   "source": [
    "#2. Print the NUMPY version and the configuration.\n",
    "print(np.version.version)\n",
    "print(np.show_config())\n"
   ]
  },
  {
   "cell_type": "code",
   "execution_count": 11,
   "metadata": {},
   "outputs": [],
   "source": [
    "#3. Generate a 2x3x5 3-dimensional array with random values. Assign the array to variable \"a\"\n",
    "# Challenge: there are at least three easy ways that use numpy to generate random arrays. How many ways can you find?\n",
    "\n",
    "a1 = np.random.random((2,3,5))\n",
    "a2 = np.random.rand(2,3,5)\n",
    "a3 = np.random.random_sample((2,3,5))\n"
   ]
  },
  {
   "cell_type": "code",
   "execution_count": 12,
   "metadata": {},
   "outputs": [
    {
     "name": "stdout",
     "output_type": "stream",
     "text": [
      "[[[0.01284004 0.34027163 0.24912495 0.72880444 0.58378831]\n",
      "  [0.1985812  0.64331819 0.70370458 0.08659558 0.2892619 ]\n",
      "  [0.77701309 0.89850004 0.506887   0.16843173 0.74983477]]\n",
      "\n",
      " [[0.65269757 0.57519269 0.99631831 0.05056146 0.98245488]\n",
      "  [0.50019965 0.21347945 0.0402883  0.73671047 0.44385917]\n",
      "  [0.03063206 0.6342926  0.82796414 0.26219535 0.99022805]]]\n",
      "\n",
      "\n",
      "[[[0.37292132 0.42863904 0.50282521 0.65476926 0.14694395]\n",
      "  [0.60273285 0.96792763 0.84116965 0.74697079 0.50438452]\n",
      "  [0.48542464 0.3404873  0.18952178 0.63358886 0.90539966]]\n",
      "\n",
      " [[0.68943641 0.54737532 0.6939957  0.93591981 0.74866948]\n",
      "  [0.43511361 0.52051032 0.08253194 0.8899291  0.4621417 ]\n",
      "  [0.35571432 0.12513619 0.13629269 0.36165739 0.67512438]]]\n",
      "\n",
      "\n",
      "[[[0.53776577 0.7238789  0.99456595 0.95863866 0.27794987]\n",
      "  [0.75204838 0.15230228 0.46628005 0.9567886  0.75817012]\n",
      "  [0.41234349 0.65955996 0.95017085 0.95362222 0.4812115 ]]\n",
      "\n",
      " [[0.04715677 0.38053949 0.00270325 0.00442691 0.64960608]\n",
      "  [0.51752201 0.46349859 0.65074314 0.53358179 0.38766772]\n",
      "  [0.88178846 0.97031751 0.74307883 0.26637767 0.11890777]]]\n"
     ]
    }
   ],
   "source": [
    "#4. Print a.\n",
    "print(a1)\n",
    "print(\"\\n\")\n",
    "print(a2)\n",
    "print(\"\\n\")\n",
    "print(a3)\n"
   ]
  },
  {
   "cell_type": "code",
   "execution_count": 14,
   "metadata": {},
   "outputs": [],
   "source": [
    "#5. Create a 5x2x3 3-dimensional array with all values equaling 1.\n",
    "#Assign the array to variable \"b\"\n",
    "\n",
    "b = np.ones((5,2,3))"
   ]
  },
  {
   "cell_type": "code",
   "execution_count": 15,
   "metadata": {},
   "outputs": [
    {
     "name": "stdout",
     "output_type": "stream",
     "text": [
      "[[[1. 1. 1.]\n",
      "  [1. 1. 1.]]\n",
      "\n",
      " [[1. 1. 1.]\n",
      "  [1. 1. 1.]]\n",
      "\n",
      " [[1. 1. 1.]\n",
      "  [1. 1. 1.]]\n",
      "\n",
      " [[1. 1. 1.]\n",
      "  [1. 1. 1.]]\n",
      "\n",
      " [[1. 1. 1.]\n",
      "  [1. 1. 1.]]]\n"
     ]
    }
   ],
   "source": [
    "#6. Print b.\n",
    "print(b)"
   ]
  },
  {
   "cell_type": "code",
   "execution_count": 19,
   "metadata": {},
   "outputs": [
    {
     "name": "stdout",
     "output_type": "stream",
     "text": [
      "30\n",
      "30\n",
      "True\n"
     ]
    }
   ],
   "source": [
    "#7. Do a and b have the same size? How do you prove that in Python code?\n",
    "print(a1.size)\n",
    "print(b.size)\n",
    "print(a1.size == b.size)"
   ]
  },
  {
   "cell_type": "code",
   "execution_count": 29,
   "metadata": {},
   "outputs": [
    {
     "ename": "ValueError",
     "evalue": "operands could not be broadcast together with shapes (2,3,5) (5,2,3) ",
     "output_type": "error",
     "traceback": [
      "\u001b[1;31m---------------------------------------------------------------------------\u001b[0m",
      "\u001b[1;31mValueError\u001b[0m                                Traceback (most recent call last)",
      "\u001b[1;32m<ipython-input-29-5ee1818285af>\u001b[0m in \u001b[0;36m<module>\u001b[1;34m\u001b[0m\n\u001b[0;32m      1\u001b[0m \u001b[1;31m#8. Are you able to add a and b? Why or why not?\u001b[0m\u001b[1;33m\u001b[0m\u001b[1;33m\u001b[0m\u001b[1;33m\u001b[0m\u001b[0m\n\u001b[1;32m----> 2\u001b[1;33m \u001b[0mnp\u001b[0m\u001b[1;33m.\u001b[0m\u001b[0madd\u001b[0m\u001b[1;33m(\u001b[0m\u001b[0ma1\u001b[0m\u001b[1;33m,\u001b[0m\u001b[0mb\u001b[0m\u001b[1;33m)\u001b[0m\u001b[1;33m\u001b[0m\u001b[1;33m\u001b[0m\u001b[0m\n\u001b[0m\u001b[0;32m      3\u001b[0m \u001b[1;33m\u001b[0m\u001b[0m\n\u001b[0;32m      4\u001b[0m \u001b[0mprint\u001b[0m\u001b[1;33m(\u001b[0m\u001b[0ma1\u001b[0m\u001b[1;33m.\u001b[0m\u001b[0mshape\u001b[0m\u001b[1;33m)\u001b[0m\u001b[1;33m\u001b[0m\u001b[1;33m\u001b[0m\u001b[0m\n\u001b[0;32m      5\u001b[0m \u001b[0mprint\u001b[0m\u001b[1;33m(\u001b[0m\u001b[0mb\u001b[0m\u001b[1;33m.\u001b[0m\u001b[0mshape\u001b[0m\u001b[1;33m)\u001b[0m\u001b[1;33m\u001b[0m\u001b[1;33m\u001b[0m\u001b[0m\n",
      "\u001b[1;31mValueError\u001b[0m: operands could not be broadcast together with shapes (2,3,5) (5,2,3) "
     ]
    }
   ],
   "source": [
    "#8. Are you able to add a and b? Why or why not?\n",
    "np.add(a1,b)\n",
    "\n",
    "print(a1.shape)\n",
    "print(b.shape)\n",
    "\n",
    "#a1 dimensions (2,3,5)\n",
    "#b dimensions (5,2,3)\n",
    "#we can't sum the 2 arrays because although they have the same size, they don't have the same dimensions, they have different shapes"
   ]
  },
  {
   "cell_type": "code",
   "execution_count": 24,
   "metadata": {},
   "outputs": [
    {
     "name": "stdout",
     "output_type": "stream",
     "text": [
      "[[[1. 1. 1. 1. 1.]\n",
      "  [1. 1. 1. 1. 1.]\n",
      "  [1. 1. 1. 1. 1.]]\n",
      "\n",
      " [[1. 1. 1. 1. 1.]\n",
      "  [1. 1. 1. 1. 1.]\n",
      "  [1. 1. 1. 1. 1.]]]\n"
     ]
    }
   ],
   "source": [
    "#9. Transpose b so that it has the same structure of a (i.e. become a 2x3x5 array).\n",
    "#Assign the transposed array to varialbe \"c\".\n",
    "\n",
    "c = b.transpose(1,2,0)\n",
    "print(c)\n"
   ]
  },
  {
   "cell_type": "code",
   "execution_count": 31,
   "metadata": {},
   "outputs": [
    {
     "name": "stdout",
     "output_type": "stream",
     "text": [
      "(2, 3, 5)\n",
      "(2, 3, 5)\n",
      "It works because a1 and c have the same shape\n"
     ]
    }
   ],
   "source": [
    "#10. Try to add a and c. Now it should work. Assign the sum to varialbe \"d\". But why does it work now?\n",
    "d = np.add(a1,c)\n",
    "#print(d)\n",
    "\n",
    "print(a1.shape)\n",
    "print(c.shape)\n",
    "print(\"It works because a1 and c have the same shape\")\n"
   ]
  },
  {
   "cell_type": "code",
   "execution_count": 34,
   "metadata": {},
   "outputs": [
    {
     "name": "stdout",
     "output_type": "stream",
     "text": [
      "[[[0.01284004 0.34027163 0.24912495 0.72880444 0.58378831]\n",
      "  [0.1985812  0.64331819 0.70370458 0.08659558 0.2892619 ]\n",
      "  [0.77701309 0.89850004 0.506887   0.16843173 0.74983477]]\n",
      "\n",
      " [[0.65269757 0.57519269 0.99631831 0.05056146 0.98245488]\n",
      "  [0.50019965 0.21347945 0.0402883  0.73671047 0.44385917]\n",
      "  [0.03063206 0.6342926  0.82796414 0.26219535 0.99022805]]]\n",
      "\n",
      "\n",
      "[[[1.01284004 1.34027163 1.24912495 1.72880444 1.58378831]\n",
      "  [1.1985812  1.64331819 1.70370458 1.08659558 1.2892619 ]\n",
      "  [1.77701309 1.89850004 1.506887   1.16843173 1.74983477]]\n",
      "\n",
      " [[1.65269757 1.57519269 1.99631831 1.05056146 1.98245488]\n",
      "  [1.50019965 1.21347945 1.0402883  1.73671047 1.44385917]\n",
      "  [1.03063206 1.6342926  1.82796414 1.26219535 1.99022805]]]\n",
      "Array d is the result of adding arrays a1 and b so each cell of d is equal to sum of the cells in the same position in arrays a1 and b\n"
     ]
    }
   ],
   "source": [
    "#11. Print a and d. Notice the difference and relation of the two array in terms of the values? Explain.\n",
    "print(a1)\n",
    "print(\"\\n\")\n",
    "print(d)\n",
    "print(\"Array d is the result of adding arrays a1 and b so each cell of d is equal to sum of the cells in the same position in arrays a1 and b\")"
   ]
  },
  {
   "cell_type": "code",
   "execution_count": 35,
   "metadata": {},
   "outputs": [
    {
     "name": "stdout",
     "output_type": "stream",
     "text": [
      "[[[0.01284004 0.34027163 0.24912495 0.72880444 0.58378831]\n",
      "  [0.1985812  0.64331819 0.70370458 0.08659558 0.2892619 ]\n",
      "  [0.77701309 0.89850004 0.506887   0.16843173 0.74983477]]\n",
      "\n",
      " [[0.65269757 0.57519269 0.99631831 0.05056146 0.98245488]\n",
      "  [0.50019965 0.21347945 0.0402883  0.73671047 0.44385917]\n",
      "  [0.03063206 0.6342926  0.82796414 0.26219535 0.99022805]]]\n"
     ]
    }
   ],
   "source": [
    "#12. Multiply a and c. Assign the result to e.\n",
    "e = a1 * c\n",
    "#print(e)"
   ]
  },
  {
   "cell_type": "code",
   "execution_count": 37,
   "metadata": {},
   "outputs": [
    {
     "name": "stdout",
     "output_type": "stream",
     "text": [
      "[[[ True  True  True  True  True]\n",
      "  [ True  True  True  True  True]\n",
      "  [ True  True  True  True  True]]\n",
      "\n",
      " [[ True  True  True  True  True]\n",
      "  [ True  True  True  True  True]\n",
      "  [ True  True  True  True  True]]]\n",
      "They are equal because all the values in c are equal to 1\n"
     ]
    }
   ],
   "source": [
    "#13. Does e equal to a? Why or why not?\n",
    "#print(e == a1)\n",
    "print(\"They are equal because all the values in c are equal to 1\")"
   ]
  },
  {
   "cell_type": "code",
   "execution_count": 42,
   "metadata": {},
   "outputs": [
    {
     "name": "stdout",
     "output_type": "stream",
     "text": [
      "Maximum value in d is 1.9963183073408792\n",
      "Minimum value in d is 1.0128400381789895\n",
      "Mean value in d is 1.495801053442573\n"
     ]
    }
   ],
   "source": [
    "#14. Identify the max, min, and mean values in d. Assign those values to variables \"d_max\", \"d_min\", and \"d_mean\"\n",
    "\n",
    "d_max = np.max(d)\n",
    "print(\"Maximum value in d is\",d_max)\n",
    "\n",
    "d_min = np.min(d)\n",
    "print(\"Minimum value in d is\",d_min) \n",
    "\n",
    "d_mean = np.mean(d)\n",
    "print(\"Mean value in d is\",d_mean) "
   ]
  },
  {
   "cell_type": "code",
   "execution_count": 72,
   "metadata": {},
   "outputs": [
    {
     "name": "stdout",
     "output_type": "stream",
     "text": [
      "[[[1.01284004 1.34027163 1.24912495 1.72880444 1.58378831]\n",
      "  [1.1985812  1.64331819 1.70370458 1.08659558 1.2892619 ]\n",
      "  [1.77701309 1.89850004 1.506887   1.16843173 1.74983477]]\n",
      "\n",
      " [[1.65269757 1.57519269 1.99631831 1.05056146 1.98245488]\n",
      "  [1.50019965 1.21347945 1.0402883  1.73671047 1.44385917]\n",
      "  [1.03063206 1.6342926  1.82796414 1.26219535 1.99022805]]]\n"
     ]
    }
   ],
   "source": [
    "#15. Now we want to label the values in d. First create an empty array \"f\" with the same shape (i.e. 2x3x5) as d\n",
    "#using `np.empty`.\n",
    "\n",
    "f = np.empty((2,3,5))\n",
    "print(f)\n",
    "\n",
    "#empty, unlike zeros, does not set the array values to zero, and may therefore be marginally faster. On the other hand, it requires the user to manually set all the values in the array, and should be used with caution."
   ]
  },
  {
   "cell_type": "code",
   "execution_count": 85,
   "metadata": {},
   "outputs": [],
   "source": [
    "#\"\"\"\n",
    "#16. Populate the values in f. For each value in d, if it's larger than d_min but smaller than d_mean, assign 25 to the\n",
    "#corresponding value in f.\n",
    "#If a value in d is larger than d_mean but smaller than d_max, assign 75 to the corresponding value in f.\n",
    "#If a value equals to d_mean, assign 50 to the corresponding value in f.\n",
    "#Assign 0 to the corresponding value(s) in f for d_min in d.\n",
    "#Assign 100 to the corresponding value(s) in f for d_max in d.\n",
    "#In the end, f should have only the following values: 0, 25, 50, 75, and 100.\n",
    "#Note: you don't have to use Numpy in this question.\n",
    "#\"\"\"\n",
    "\n",
    "for x in range(2):\n",
    "    for y in range(3):\n",
    "        for i in range(5):\n",
    "            if d[x][y][i] > d_min and d[x][y][i] < d_mean:\n",
    "                f[x][y][i] = 25\n",
    "            elif d[x][y][i] > d_mean and d[x][y][i] < d_max:\n",
    "                f[x][y][i] = 75\n",
    "            elif d[x][y][i] == d_min:\n",
    "                f[x][y][i] = 0\n",
    "            elif d[x][y][i] == d_mean:\n",
    "                f[x][y][i] = 50\n",
    "            elif d[x][y][i] == d_max:\n",
    "                f[x][y][i] = 100\n",
    "    \n"
   ]
  },
  {
   "cell_type": "code",
   "execution_count": 86,
   "metadata": {},
   "outputs": [
    {
     "name": "stdout",
     "output_type": "stream",
     "text": [
      "[[[  0.  25.  25.  75.  75.]\n",
      "  [ 25.  75.  75.  25.  25.]\n",
      "  [ 75.  75.  75.  25.  75.]]\n",
      "\n",
      " [[ 75.  75. 100.  25.  75.]\n",
      "  [ 75.  25.  25.  75.  25.]\n",
      "  [ 25.  75.  75.  25.  75.]]]\n"
     ]
    }
   ],
   "source": [
    "#\"\"\"\n",
    "##17. Print d and f. Do you have your expected f?\n",
    "#For instance, if your d is:\n",
    "#array([[[1.85836099, 1.67064465, 1.62576044, 1.40243961, 1.88454931],\n",
    "#        [1.75354326, 1.69403643, 1.36729252, 1.61415071, 1.12104981],\n",
    "#        [1.72201435, 1.1862918 , 1.87078449, 1.7726778 , 1.88180042]],\n",
    "#       [[1.44747908, 1.31673383, 1.02000951, 1.52218947, 1.97066381],\n",
    "#        [1.79129243, 1.74983003, 1.96028037, 1.85166831, 1.65450881],\n",
    "#        [1.18068344, 1.9587381 , 1.00656599, 1.93402165, 1.73514584]]])\n",
    "#Your f should be:\n",
    "#array([[[ 75.,  75.,  75.,  25.,  75.],\n",
    "#        [ 75.,  75.,  25.,  25.,  25.],\n",
    "#        [ 75.,  25.,  75.,  75.,  75.]],\n",
    "#       [[ 25.,  25.,  25.,  25., 100.],\n",
    "#        [ 75.,  75.,  75.,  75.,  75.],\n",
    "#        [ 25.,  75.,   0.,  75.,  75.]]])\n",
    "#\"\"\"\n",
    "print(f)"
   ]
  },
  {
   "cell_type": "code",
   "execution_count": 88,
   "metadata": {},
   "outputs": [
    {
     "name": "stdout",
     "output_type": "stream",
     "text": [
      "[[['A' 'B' 'B' 'D' 'D']\n",
      "  ['B' 'D' 'D' 'B' 'B']\n",
      "  ['D' 'D' 'D' 'B' 'D']]\n",
      "\n",
      " [['D' 'D' 'E' 'B' 'D']\n",
      "  ['D' 'B' 'B' 'D' 'B']\n",
      "  ['B' 'D' 'D' 'B' 'D']]]\n"
     ]
    }
   ],
   "source": [
    "#\"\"\"\n",
    "#18. Bonus question: instead of using numbers (i.e. 0, 25, 50, 75, and 100), how to use string values \n",
    "#(\"A\", \"B\", \"C\", \"D\", and \"E\") to label the array elements? You are expecting the result to be:\n",
    "#array([[[ 'D',  'D',  'D',  'B',  'D'],\n",
    "#        [ 'D',  'D',  'B',  'B',  'B'],\n",
    "#        [ 'D',  'B',  'D',  'D',  'D']],\n",
    "#\n",
    "#       [[ 'B',  'B',  'B',  'B',  'E'],\n",
    "#        [ 'D',  'D',  'D',  'D',  'D'],\n",
    "#        [ 'B',  'D',   'A',  'D', 'D']]])\n",
    "#Again, you don't need Numpy in this question.\n",
    "#\"\"\"\n",
    "\n",
    "g = np.empty((2,3,5), dtype = str)\n",
    "\n",
    "for x in range(2):\n",
    "    for y in range(3):\n",
    "        for i in range(5):\n",
    "            if d[x][y][i] > d_min and d[x][y][i] < d_mean:\n",
    "                g[x][y][i] = \"B\"\n",
    "            elif d[x][y][i] > d_mean and d[x][y][i] < d_max:\n",
    "                g[x][y][i] = \"D\"\n",
    "            elif d[x][y][i] == d_min:\n",
    "                g[x][y][i] = \"A\"\n",
    "            elif d[x][y][i] == d_mean:\n",
    "                g[x][y][i] = \"C\"\n",
    "            elif d[x][y][i] == d_max:\n",
    "                g[x][y][i] = \"E\"\n",
    "\n",
    "print(g)"
   ]
  },
  {
   "cell_type": "code",
   "execution_count": null,
   "metadata": {},
   "outputs": [],
   "source": []
  }
 ],
 "metadata": {
  "kernelspec": {
   "display_name": "Python 3",
   "language": "python",
   "name": "python3"
  },
  "language_info": {
   "codemirror_mode": {
    "name": "ipython",
    "version": 3
   },
   "file_extension": ".py",
   "mimetype": "text/x-python",
   "name": "python",
   "nbconvert_exporter": "python",
   "pygments_lexer": "ipython3",
   "version": "3.7.1"
  }
 },
 "nbformat": 4,
 "nbformat_minor": 2
}
